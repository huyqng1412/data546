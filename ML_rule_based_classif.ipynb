{
 "cells": [
  {
   "cell_type": "code",
   "execution_count": 1,
   "id": "db1e1cd1",
   "metadata": {},
   "outputs": [],
   "source": [
    "import pandas as pd "
   ]
  },
  {
   "cell_type": "code",
   "execution_count": 3,
   "id": "aa4bdb1e",
   "metadata": {},
   "outputs": [],
   "source": [
    "data = [\n",
    "    ['Sunny', 'Hot', 'High', False, 'not_play'],\n",
    "    ['Sunny', 'Hot', 'High', True, 'not_play'],\n",
    "    ['Overcast', 'Hot', 'High', False, 'play'],\n",
    "    ['Rainy', 'Mild', 'High', False, 'play'],\n",
    "    ['Rainy', 'Cool', 'Normal', False, 'play'],\n",
    "    ['Rainy', 'Cool', 'Normal', True, 'not_play'],\n",
    "    ['Overcast', 'Cool', 'Normal', True, 'play'],\n",
    "    ['Sunny', 'Mild', 'High', False, 'not_play'],\n",
    "    ['Sunny', 'Cool', 'Normal', False, 'play'],\n",
    "    ['Rainy', 'Mild', 'Normal', False, 'play'],\n",
    "    ['Sunny', 'Mild', 'Normal', True, 'play'],\n",
    "    ['Overcast', 'Mild', 'High', True, 'play'],\n",
    "    ['Overcast', 'Hot', 'Normal', False, 'play'],\n",
    "    ['Rainy', 'Mild', 'High', True, 'not_play']\n",
    "]\n",
    "dataset = pd.DataFrame(data, columns=['Outlook', 'Temperature', 'Humidity', 'Windy', 'Play'])\n"
   ]
  },
  {
   "cell_type": "code",
   "execution_count": 4,
   "id": "bfba59cb",
   "metadata": {},
   "outputs": [],
   "source": [
    "# Helper function to check if a record is covered by a rule\n",
    "def record_is_covered(record, rule):\n",
    "    # Only iterate over the actual condition parts of the rule\n",
    "    for condition_attr, condition_value in rule.items():\n",
    "        if condition_attr not in ['class', 'default'] and record[condition_attr] != condition_value:\n",
    "            return False\n",
    "    return True\n",
    "\n",
    "# Helper function to get class counts for a given subset of data\n",
    "def get_class_counts(df, target_class_name):\n",
    "    return df[target_class_name].value_counts()\n"
   ]
  },
  {
   "cell_type": "code",
   "execution_count": 5,
   "id": "af9d610f",
   "metadata": {},
   "outputs": [],
   "source": [
    "# 2. Learn-One-Rule (dataset, A, y)\n",
    "def learn_one_rule(dataset, A, target_class, target_class_name):\n",
    "    \"\"\"\n",
    "    Learns a single, high-accuracy rule for the target_class.\n",
    "    \"\"\"\n",
    "    best_rule = None\n",
    "    best_accuracy = -1\n",
    "    \n",
    "    # Iterate through each possible condition (attribute-value pair)\n",
    "    for attr in A:\n",
    "        for value in dataset[attr].unique():\n",
    "            condition = {attr: value}\n",
    "            covered_records = dataset[dataset.apply(lambda r: record_is_covered(r, condition), axis=1)]\n",
    "            \n",
    "            if len(covered_records) > 0:\n",
    "                accuracy = len(covered_records[covered_records[target_class_name] == target_class]) / len(covered_records)\n",
    "                if accuracy > best_accuracy:\n",
    "                    best_accuracy = accuracy\n",
    "                    best_rule = condition\n",
    "    \n",
    "    return best_rule\n"
   ]
  },
  {
   "cell_type": "code",
   "execution_count": 8,
   "id": "d4a26864",
   "metadata": {},
   "outputs": [],
   "source": [
    "# 3. Main Sequential Covering Algorithm\n",
    "def sequential_covering(dataset, target_class_name):\n",
    "    \"\"\"\n",
    "    Implements the sequential covering algorithm, prioritizing minority classes.\n",
    "    \"\"\"\n",
    "    R = [] # Rule list\n",
    "    \n",
    "    # Step 1: Order classes by frequency (minority first)\n",
    "    class_counts = get_class_counts(dataset, target_class_name).sort_values(ascending=True)\n",
    "    sorted_classes = class_counts.index.tolist()\n",
    "    \n",
    "    remaining_dataset = dataset.copy()\n",
    "    \n",
    "    # Step 2: Iterate through each class, from minority to majority\n",
    "    for y in sorted_classes:\n",
    "        if y == sorted_classes[-1]:\n",
    "            # This is the majority class, handled by the default rule\n",
    "            continue\n",
    "            \n",
    "        print(f\"\\nLearning rules for class: '{y}'\")\n",
    "        while True:\n",
    "            # Step 3: Learn a rule for the current target class\n",
    "            r = learn_one_rule(remaining_dataset, remaining_dataset.columns[:-1], y, target_class_name)\n",
    "            \n",
    "            # Stop if no good rule can be found\n",
    "            if not r:\n",
    "                print(f\"  No more rules found for class '{y}'.\")\n",
    "                break\n",
    "            \n",
    "            # Step 4: Add the rule and remove covered examples\n",
    "            r['class'] = y\n",
    "            R.append(r)\n",
    "            \n",
    "            covered_mask = remaining_dataset.apply(lambda row: record_is_covered(row, r), axis=1)\n",
    "            covered_count = sum(covered_mask)\n",
    "            \n",
    "            if covered_count == 0:\n",
    "                print(f\"  Rule {r} covers no remaining records.\")\n",
    "                break\n",
    "            \n",
    "            remaining_dataset = remaining_dataset[~covered_mask]\n",
    "            print(f\"  Rule found: {r}. Covered {covered_count} records. {len(remaining_dataset)} records remaining.\")\n",
    "            \n",
    "            # Stopping condition: stop if no examples of the current class remain\n",
    "            if sum(remaining_dataset[target_class_name] == y) == 0:\n",
    "                print(f\"  All instances of class '{y}' covered.\")\n",
    "                break\n",
    "\n",
    "    # Step 5: Add the default rule for the majority class\n",
    "    default_class = sorted_classes[-1]\n",
    "    R.append({'class': default_class, 'default': True})\n",
    "    \n",
    "    return R\n"
   ]
  },
  {
   "cell_type": "code",
   "execution_count": 9,
   "id": "aa3863fd",
   "metadata": {},
   "outputs": [
    {
     "name": "stdout",
     "output_type": "stream",
     "text": [
      "\n",
      "Learning rules for class: 'not_play'\n",
      "  Rule found: {'Outlook': 'Sunny', 'class': 'not_play'}. Covered 5 records. 9 records remaining.\n",
      "  Rule found: {'Windy': np.True_, 'class': 'not_play'}. Covered 4 records. 5 records remaining.\n",
      "  All instances of class 'not_play' covered.\n",
      "\n",
      "Final learned rule list:\n",
      "IF Outlook='Sunny' => not_play\n",
      "IF Windy='True' => not_play\n",
      "ELSE => play\n"
     ]
    }
   ],
   "source": [
    "# Execute the algorithm\n",
    "attributes = dataset.columns[:-1]\n",
    "rule_list = sequential_covering(dataset, 'Play')\n",
    "\n",
    "# --- CORRECTED printing loop ---\n",
    "print(\"\\nFinal learned rule list:\")\n",
    "for rule in rule_list:\n",
    "    if 'default' in rule:\n",
    "        print(f\"ELSE => {rule['class']}\")\n",
    "    else:\n",
    "        conditions = [f\"{k}='{v}'\" for k, v in rule.items() if k != 'class']\n",
    "        antecedent = ' and '.join(conditions)\n",
    "        print(f\"IF {antecedent} => {rule['class']}\")"
   ]
  },
  {
   "cell_type": "code",
   "execution_count": null,
   "id": "557fcd20",
   "metadata": {},
   "outputs": [],
   "source": []
  }
 ],
 "metadata": {
  "kernelspec": {
   "display_name": "Python 3",
   "language": "python",
   "name": "python3"
  },
  "language_info": {
   "codemirror_mode": {
    "name": "ipython",
    "version": 3
   },
   "file_extension": ".py",
   "mimetype": "text/x-python",
   "name": "python",
   "nbconvert_exporter": "python",
   "pygments_lexer": "ipython3",
   "version": "3.13.7"
  }
 },
 "nbformat": 4,
 "nbformat_minor": 5
}
